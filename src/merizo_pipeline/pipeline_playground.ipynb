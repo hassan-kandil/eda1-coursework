{
 "cells": [
  {
   "cell_type": "code",
   "execution_count": 4,
   "id": "caf689c5-ba5d-4a1b-8264-8ffcee5db725",
   "metadata": {},
   "outputs": [
    {
     "data": {
      "text/plain": [
       "pyspark.context.SparkContext"
      ]
     },
     "execution_count": 4,
     "metadata": {},
     "output_type": "execute_result"
    }
   ],
   "source": [
    "SparkContext"
   ]
  },
  {
   "cell_type": "code",
   "execution_count": 5,
   "id": "b069b057-c1eb-4886-a8ec-3658d1819bfb",
   "metadata": {},
   "outputs": [
    {
     "name": "stdout",
     "output_type": "stream",
     "text": [
      "/home/almalinux/eda1-coursework/src/merizo_pipeline\n"
     ]
    }
   ],
   "source": [
    "!pwd"
   ]
  },
  {
   "cell_type": "code",
   "execution_count": 6,
   "id": "ad9edb22-c4a7-456e-9361-5d2a06a3f100",
   "metadata": {},
   "outputs": [
    {
     "name": "stdout",
     "output_type": "stream",
     "text": [
      "Defaulting to user installation because normal site-packages is not writeable\n",
      "Collecting torch==2.0.1+cpu\n",
      "  Using cached https://download.pytorch.org/whl/cpu/torch-2.0.1%2Bcpu-cp39-cp39-linux_x86_64.whl (195.4 MB)\n",
      "Requirement already satisfied: einops in /usr/local/lib/python3.9/site-packages (from -r requirements.txt (line 1)) (0.8.0)\n",
      "Requirement already satisfied: matplotlib in /usr/local/lib64/python3.9/site-packages (from -r requirements.txt (line 2)) (3.9.3)\n",
      "Requirement already satisfied: natsort in /usr/local/lib/python3.9/site-packages (from -r requirements.txt (line 3)) (8.4.0)\n",
      "Requirement already satisfied: networkx in /usr/local/lib/python3.9/site-packages (from -r requirements.txt (line 4)) (3.2.1)\n",
      "Requirement already satisfied: numpy<2.0 in /usr/local/lib64/python3.9/site-packages (from -r requirements.txt (line 5)) (1.26.4)\n",
      "Requirement already satisfied: rotary_embedding_torch in /usr/local/lib/python3.9/site-packages (from -r requirements.txt (line 6)) (0.8.6)\n",
      "Requirement already satisfied: scipy in /usr/local/lib64/python3.9/site-packages (from -r requirements.txt (line 7)) (1.13.1)\n",
      "Requirement already satisfied: setuptools in /usr/lib/python3.9/site-packages (from -r requirements.txt (line 8)) (53.0.0)\n",
      "Requirement already satisfied: faiss-cpu in /usr/local/lib64/python3.9/site-packages (from -r requirements.txt (line 9)) (1.9.0.post1)\n",
      "Requirement already satisfied: cycler>=0.10 in /usr/local/lib/python3.9/site-packages (from matplotlib->-r requirements.txt (line 2)) (0.12.1)\n",
      "Requirement already satisfied: contourpy>=1.0.1 in /usr/local/lib64/python3.9/site-packages (from matplotlib->-r requirements.txt (line 2)) (1.3.0)\n",
      "Requirement already satisfied: python-dateutil>=2.7 in /home/almalinux/.local/lib/python3.9/site-packages (from matplotlib->-r requirements.txt (line 2)) (2.9.0.post0)\n",
      "Requirement already satisfied: pyparsing>=2.3.1 in /usr/local/lib/python3.9/site-packages (from matplotlib->-r requirements.txt (line 2)) (3.2.0)\n",
      "Requirement already satisfied: pillow>=8 in /usr/local/lib64/python3.9/site-packages (from matplotlib->-r requirements.txt (line 2)) (11.0.0)\n",
      "Requirement already satisfied: fonttools>=4.22.0 in /usr/local/lib64/python3.9/site-packages (from matplotlib->-r requirements.txt (line 2)) (4.55.2)\n",
      "Requirement already satisfied: importlib-resources>=3.2.0 in /usr/local/lib/python3.9/site-packages (from matplotlib->-r requirements.txt (line 2)) (6.4.5)\n",
      "Requirement already satisfied: kiwisolver>=1.3.1 in /usr/local/lib64/python3.9/site-packages (from matplotlib->-r requirements.txt (line 2)) (1.4.7)\n",
      "Requirement already satisfied: packaging>=20.0 in /usr/local/lib/python3.9/site-packages (from matplotlib->-r requirements.txt (line 2)) (24.2)\n",
      "Requirement already satisfied: jinja2 in /home/almalinux/.local/lib/python3.9/site-packages (from torch==2.0.1+cpu->-r requirements.txt (line 10)) (3.1.4)\n",
      "Requirement already satisfied: sympy in /usr/local/lib/python3.9/site-packages (from torch==2.0.1+cpu->-r requirements.txt (line 10)) (1.13.3)\n",
      "Requirement already satisfied: typing-extensions in /usr/local/lib/python3.9/site-packages (from torch==2.0.1+cpu->-r requirements.txt (line 10)) (4.12.2)\n",
      "Requirement already satisfied: filelock in /usr/lib/python3.9/site-packages (from torch==2.0.1+cpu->-r requirements.txt (line 10)) (3.7.1)\n",
      "Requirement already satisfied: zipp>=3.1.0 in /usr/local/lib/python3.9/site-packages (from importlib-resources>=3.2.0->matplotlib->-r requirements.txt (line 2)) (3.21.0)\n",
      "Requirement already satisfied: six>=1.5 in /usr/lib/python3.9/site-packages (from python-dateutil>=2.7->matplotlib->-r requirements.txt (line 2)) (1.15.0)\n",
      "Requirement already satisfied: MarkupSafe>=2.0 in /home/almalinux/.local/lib/python3.9/site-packages (from jinja2->torch==2.0.1+cpu->-r requirements.txt (line 10)) (3.0.2)\n",
      "Requirement already satisfied: mpmath<1.4,>=1.1.0 in /usr/local/lib/python3.9/site-packages (from sympy->torch==2.0.1+cpu->-r requirements.txt (line 10)) (1.3.0)\n"
     ]
    }
   ],
   "source": [
    "!pip3 install -r requirements.txt"
   ]
  },
  {
   "cell_type": "code",
   "execution_count": 7,
   "id": "641a42f5-44ff-4dd9-bd26-15d4ca2e8148",
   "metadata": {},
   "outputs": [],
   "source": [
    "import logging\n",
    "logging.basicConfig(level=logging.INFO)\n",
    "logger = logging.getLogger(__name__)"
   ]
  },
  {
   "cell_type": "code",
   "execution_count": 8,
   "id": "5d39ee9c-bf03-46b1-a28e-c13d7ce81f47",
   "metadata": {},
   "outputs": [],
   "source": [
    "sc = spark.sparkContext\n",
    "sc.setLogLevel(\"ERROR\")"
   ]
  },
  {
   "cell_type": "code",
   "execution_count": 9,
   "id": "e5a3a6f4-8950-4783-93d9-e78f71e963fb",
   "metadata": {},
   "outputs": [
    {
     "data": {
      "text/plain": [
       "'local[3]'"
      ]
     },
     "execution_count": 9,
     "metadata": {},
     "output_type": "execute_result"
    }
   ],
   "source": [
    "sc.master"
   ]
  },
  {
   "cell_type": "code",
   "execution_count": 10,
   "id": "1e0d8e77-7bf6-4d8b-80a3-f9cfc394d954",
   "metadata": {},
   "outputs": [
    {
     "data": {
      "text/plain": [
       "'/home/almalinux/eda1-coursework/src/merizo_pipeline'"
      ]
     },
     "execution_count": 10,
     "metadata": {},
     "output_type": "execute_result"
    }
   ],
   "source": [
    "os.getcwd()"
   ]
  },
  {
   "cell_type": "code",
   "execution_count": 11,
   "id": "e36d6a53-4605-40b0-8ea6-9316842075b7",
   "metadata": {},
   "outputs": [],
   "source": [
    "def read_dir(input_dir, output_dir):\n",
    "    \"\"\"\n",
    "    Read file paths from HDFS using SparkContext.\n",
    "    \"\"\"\n",
    "    # Use SparkContext to read files from HDFS\n",
    "    # If files are located in a directory on HDFS, you can use textFile \n",
    "    file_rdd = sc.wholeTextFile(input_dir + \"/AF-Q46839-F1-model_v4.pdb\") \n",
    "    file_paths = file_rdd.collect()  # This retrieves the file paths as a list\n",
    "\n",
    "    # Create a list of tuples with file path, id, and output directory\n",
    "    return [(file_path, os.path.basename(file_path), output_dir) for file_path in file_paths]\n"
   ]
  },
  {
   "cell_type": "code",
   "execution_count": 12,
   "id": "3dd95c37-f9f2-4ef7-b0a1-c52f56d85d5e",
   "metadata": {},
   "outputs": [],
   "source": [
    "input_dir = \"/UP000000625_83333_ECOLI_v4/\""
   ]
  },
  {
   "cell_type": "code",
   "execution_count": 13,
   "id": "d1b892af-2343-4be6-a3dd-11e91e1682ca",
   "metadata": {},
   "outputs": [],
   "source": [
    "file_rdd = sc.wholeTextFiles(input_dir + \"*.pdb\")\n",
    "file_paths_rdd = file_rdd.map(lambda x: (x[0], os.path.basename(x[0])))"
   ]
  },
  {
   "cell_type": "code",
   "execution_count": 15,
   "id": "18a0b535-002c-4f75-b589-ee9ae132bb59",
   "metadata": {},
   "outputs": [
    {
     "ename": "NameError",
     "evalue": "name 'SparkFiles' is not defined",
     "output_type": "error",
     "traceback": [
      "\u001b[0;31m---------------------------------------------------------------------------\u001b[0m",
      "\u001b[0;31mNameError\u001b[0m                                 Traceback (most recent call last)",
      "Cell \u001b[0;32mIn[15], line 1\u001b[0m\n\u001b[0;32m----> 1\u001b[0m local_file_path \u001b[38;5;241m=\u001b[39m \u001b[43mSparkFiles\u001b[49m\u001b[38;5;241m.\u001b[39mget(input_dir \u001b[38;5;241m+\u001b[39m \u001b[38;5;124m\"\u001b[39m\u001b[38;5;124m/AF-Q46839-F1-model_v4.pdb\u001b[39m\u001b[38;5;124m\"\u001b[39m)\n\u001b[1;32m      2\u001b[0m local_file_path\n",
      "\u001b[0;31mNameError\u001b[0m: name 'SparkFiles' is not defined"
     ]
    }
   ],
   "source": [
    "local_file_path = SparkFiles.get(input_dir + \"/AF-Q46839-F1-model_v4.pdb\")\n",
    "local_file_path"
   ]
  },
  {
   "cell_type": "code",
   "execution_count": 16,
   "id": "648a0de1-78d5-4366-9006-13aa180f7f2c",
   "metadata": {},
   "outputs": [
    {
     "name": "stdout",
     "output_type": "stream",
     "text": [
      "IOStream.flush timed out\n",
      "merizo_pipeline  pipeline_playground.ipynb  results_parser.py\n",
      "pipeline_job.py  requirements.txt\t    setup.py\n"
     ]
    }
   ],
   "source": [
    "!ls"
   ]
  },
  {
   "cell_type": "code",
   "execution_count": 17,
   "id": "6f7cfbdc-6b19-461a-a16d-e05275568ca7",
   "metadata": {},
   "outputs": [
    {
     "name": "stdout",
     "output_type": "stream",
     "text": [
      "IOStream.flush timed out\n",
      "/home/almalinux/eda1-coursework/src/merizo_pipeline\n"
     ]
    }
   ],
   "source": [
    "!pwd"
   ]
  },
  {
   "cell_type": "code",
   "execution_count": 167,
   "id": "31dcb17c-eefb-497c-be8f-387724134e9a",
   "metadata": {},
   "outputs": [
    {
     "name": "stdout",
     "output_type": "stream",
     "text": [
      "File Name: AF-Q46839-F1-model_v4.pdb, File Path: hdfs://hostnode:9000/UP000000625_83333_ECOLI_v4/AF-Q46839-F1-model_v4.pdb\n",
      "RUNNINGGGG MERIZOO SEARCHHHHHHHHHHHHHHHHHHHHHHHHHHHHHHHHHH\n",
      "STEP 1: RUNNING MERIZO: python3 /home/almalinux/merizo_search/merizo_search/merizo.py easy-search hdfs://hostnode:9000/UP000000625_83333_ECOLI_v4/AF-Q46839-F1-model_v4.pdb /home/almalinux/data/cath-4.3-foldclassdb AF-Q46839-F1-model_v4.pdb tmp --iterate --output_headers -d cpu --threads 1\n"
     ]
    }
   ],
   "source": [
    "run_merizo_search(('hdfs://hostnode:9000/UP000000625_83333_ECOLI_v4/AF-Q46839-F1-model_v4.pdb', 'AF-Q46839-F1-model_v4.pdb'))"
   ]
  },
  {
   "cell_type": "code",
   "execution_count": 170,
   "id": "da286e21-7d05-41af-9d91-f6d1b8ea38ce",
   "metadata": {},
   "outputs": [
    {
     "name": "stdout",
     "output_type": "stream",
     "text": [
      "IOStream.flush timed out\n",
      "__init__.py  pipeline_playground.ipynb\tpipeline_script.py\n",
      "parser.py    pipeline.py\t\tresults_parser.py\n"
     ]
    }
   ],
   "source": [
    "!ls"
   ]
  },
  {
   "cell_type": "code",
   "execution_count": 169,
   "id": "f8e35ec3-4e94-4b95-93e0-a8a19eb99f43",
   "metadata": {},
   "outputs": [
    {
     "name": "stdout",
     "output_type": "stream",
     "text": [
      "IOStream.flush timed out\n"
     ]
    }
   ],
   "source": [
    "!rm -rf AF-Q46839-F1-model_v4.pdb AF-Q46839-F1-model_v4.pdb_segment.tsv "
   ]
  },
  {
   "cell_type": "code",
   "execution_count": 18,
   "id": "152a5137-8f0e-45c0-ae92-e77abb53fcdf",
   "metadata": {},
   "outputs": [],
   "source": [
    "input_dir = \"/UP000000625_83333_ECOLI_v4/\"\n",
    "file_rdd = sc.binaryFiles(input_dir + \"*.pdb\")\n",
    "file_rdd = file_rdd.sample(withReplacement=False, fraction=0.005)\n",
    "file_content_rdd = file_rdd.map(lambda x: (os.path.basename(x[0]), x[1]))"
   ]
  },
  {
   "cell_type": "code",
   "execution_count": 19,
   "id": "6f0d0538-0325-42a1-a168-bf68c8c5fbe5",
   "metadata": {},
   "outputs": [],
   "source": [
    "from subprocess import Popen,run, PIPE\n",
    "from tempfile import NamedTemporaryFile\n",
    "from pyspark.sql import SparkSession\n",
    "import os\n",
    "\n",
    "def run_merizo_search(file_tuple):\n",
    "    input_file_name, file_content = file_tuple\n",
    "    print(f\"File Name: {input_file_name}\")\n",
    "\n",
    "    # Create a temporary file to hold the content\n",
    "    with NamedTemporaryFile(delete=True, mode='wb') as temp_file:\n",
    "        temp_file.write(file_content)\n",
    "        temp_file_path = temp_file.name\n",
    "        cmd = ['python3',\n",
    "           '/home/almalinux/merizo_search/merizo_search/merizo.py',\n",
    "           'easy-search',\n",
    "           temp_file_path,\n",
    "           '/home/almalinux/data/cath-4.3-foldclassdb',\n",
    "           input_file_name,\n",
    "           'tmp',\n",
    "           '--iterate',\n",
    "           '--output_headers',\n",
    "           '-d',\n",
    "           'cpu',\n",
    "           '--threads',\n",
    "           '1'\n",
    "          ]\n",
    "        print(f'STEP 1: RUNNING MERIZO: {\" \".join(cmd)}')\n",
    "        p = Popen(cmd, stdin=PIPE,stdout=PIPE, stderr=PIPE)\n",
    "        out, err = p.communicate()\n",
    "        # Decode the byte output to string\n",
    "        print(\"Output:\")\n",
    "        print(out.decode())  # Decode and print the standard output\n",
    "        \n",
    "        if err:\n",
    "            print(\"Error:\")\n",
    "            print(err.decode())  # Decode and print the standard error\n",
    "            "
   ]
  },
  {
   "cell_type": "code",
   "execution_count": null,
   "id": "dad68e19-d389-4d9a-8ed3-d36923d4c267",
   "metadata": {},
   "outputs": [],
   "source": [
    "file_content_rdd.map(run_merizo_search).collect()"
   ]
  },
  {
   "cell_type": "code",
   "execution_count": 24,
   "id": "505990b7-0442-4bc1-8378-43f6273aa28d",
   "metadata": {},
   "outputs": [
    {
     "name": "stderr",
     "output_type": "stream",
     "text": [
      "Output:\n",
      "\n",
      "Error:\n",
      "2024-12-07 03:38:11,452 | INFO | Starting easy-search with command: \n",
      "\n",
      "/home/almalinux/merizo_search/merizo_search/merizo.py easy-search /tmp/tmpj6817fqh /home/almalinux/data/cath-4.3-foldclassdb AF-P0A8A4-F1-model_v4.pdb tmp --iterate --output_headers -d cpu --threads 1\n",
      "\n",
      "2024-12-07 03:38:20,676 | INFO | Finished easy-search in 9.223 seconds.\n",
      "\n"
     ]
    }
   ],
   "source": [
    "def run_parser(input_file):\n",
    "    \"\"\"\n",
    "    Run the results_parser.py over the hhr file to produce the output summary\n",
    "    \"\"\"\n",
    "    search_file = input_file+\"_search.tsv\"\n",
    "    print(\"search_file: \", search_file)\n",
    "    cmd = ['python3', './results_parser.py', search_file]\n",
    "    print(f'STEP 2: RUNNING PARSER: {\" \".join(cmd)}')\n",
    "    p = Popen(cmd, stdin=PIPE,stdout=PIPE, stderr=PIPE)\n",
    "    out, err = p.communicate()\n",
    "    # Decode the byte output to string\n",
    "    print(\"Output:\")\n",
    "    print(out.decode(\"utf-8\"))  # Decode and print the standard output\n",
    "        \n",
    "    if err:\n",
    "        print(\"Error:\")\n",
    "        print(err.decode(\"utf-8\"))  # Decode and print the standard error"
   ]
  },
  {
   "cell_type": "code",
   "execution_count": 25,
   "id": "04ecbfac-2f02-4380-91bb-ae208bb91aff",
   "metadata": {},
   "outputs": [
    {
     "name": "stderr",
     "output_type": "stream",
     "text": [
      "[Stage 0:==========================================>                (5 + 2) / 7]"
     ]
    }
   ],
   "source": [
    "def run_merizo_search(file_name, file_content):\n",
    "    print(f\"File Name: {file_name}\")\n",
    "    # Create a temporary file to hold the content\n",
    "    with NamedTemporaryFile(delete=True, mode='wb') as temp_file:\n",
    "        temp_file.write(file_content)\n",
    "        temp_file_path = temp_file.name\n",
    "        cmd = ['python3',\n",
    "           '/home/almalinux/merizo_search/merizo_search/merizo.py',\n",
    "           'easy-search',\n",
    "           temp_file_path,\n",
    "           '/home/almalinux/data/cath-4.3-foldclassdb',\n",
    "           file_name,\n",
    "           'tmp',\n",
    "           '--iterate',\n",
    "           '--output_headers',\n",
    "           '-d',\n",
    "           'cpu',\n",
    "           '--threads',\n",
    "           '1'\n",
    "          ]\n",
    "        print(f'STEP 1: RUNNING MERIZO: {\" \".join(cmd)}')\n",
    "        p = Popen(cmd, stdin=PIPE,stdout=PIPE, stderr=PIPE)\n",
    "        out, err = p.communicate()\n",
    "        # Decode the byte output to string\n",
    "        print(\"Output:\")\n",
    "        print(out.decode(\"utf-8\"))  # Decode and print the standard output\n",
    "        \n",
    "        if err:\n",
    "            print(\"Error:\")\n",
    "            print(err.decode(\"utf-8\"))  # Decode and print the standard error\n"
   ]
  },
  {
   "cell_type": "code",
   "execution_count": 26,
   "id": "4194e055-f2d1-4020-9c7d-77d708b76ea2",
   "metadata": {},
   "outputs": [
    {
     "name": "stderr",
     "output_type": "stream",
     "text": [
      "Output:\n",
      "\n",
      "Error:\n",
      "2024-12-07 03:38:21,873 | INFO | Starting easy-search with command: \n",
      "\n",
      "/home/almalinux/merizo_search/merizo_search/merizo.py easy-search /tmp/tmptojva8uj /home/almalinux/data/cath-4.3-foldclassdb AF-P76334-F1-model_v4.pdb tmp --iterate --output_headers -d cpu --threads 1\n",
      "\n",
      "2024-12-07 03:38:27,786 | INFO | Finished easy-search in 5.913 seconds.\n",
      "\n"
     ]
    }
   ],
   "source": [
    "\n",
    "def pipeline(file_tuple):\n",
    "    file_name, file_content = file_tuple\n",
    "    # STEP 1\n",
    "    run_merizo_search(file_name, file_content)\n",
    "    # STEP 2\n",
    "    run_parser(file_name)"
   ]
  },
  {
   "cell_type": "code",
   "execution_count": 27,
   "id": "223d0f84-114e-4f8a-ab2a-6793077f602f",
   "metadata": {},
   "outputs": [
    {
     "name": "stderr",
     "output_type": "stream",
     "text": [
      "Output:\n",
      "\n",
      "Error:\n",
      "2024-12-07 03:38:16,696 | INFO | Starting easy-search with command: \n",
      "\n",
      "/home/almalinux/merizo_search/merizo_search/merizo.py easy-search /tmp/tmpumku45eo /home/almalinux/data/cath-4.3-foldclassdb AF-P27830-F1-model_v4.pdb tmp --iterate --output_headers -d cpu --threads 1\n",
      "\n",
      "2024-12-07 03:38:28,425 | INFO | Finished easy-search in 11.729 seconds.\n",
      "\n",
      "File Name: AF-P31224-F1-model_v4.pdb\n",
      "STEP 1: RUNNING MERIZO: python3 /home/almalinux/merizo_search/merizo_search/merizo.py easy-search /tmp/tmpv3iqi9p8 /home/almalinux/data/cath-4.3-foldclassdb AF-P31224-F1-model_v4.pdb tmp --iterate --output_headers -d cpu --threads 1\n",
      "File Name: AF-P0AAQ6-F1-model_v4.pdb/ 7][Stage 1:>                  (0 + 2) / 7]\n",
      "STEP 1: RUNNING MERIZO: python3 /home/almalinux/merizo_search/merizo_search/merizo.py easy-search /tmp/tmpdo3werk9 /home/almalinux/data/cath-4.3-foldclassdb AF-P0AAQ6-F1-model_v4.pdb tmp --iterate --output_headers -d cpu --threads 1\n",
      "File Name: AF-P37671-F1-model_v4.pdb\n",
      "STEP 1: RUNNING MERIZO: python3 /home/almalinux/merizo_search/merizo_search/merizo.py easy-search /tmp/tmpasmw635u /home/almalinux/data/cath-4.3-foldclassdb AF-P37671-F1-model_v4.pdb tmp --iterate --output_headers -d cpu --threads 1\n",
      "Output:\n",
      "\n",
      "Error:\n",
      "2024-12-07 03:38:33,679 | INFO | Starting easy-search with command: \n",
      "\n",
      "/home/almalinux/merizo_search/merizo_search/merizo.py easy-search /tmp/tmpdo3werk9 /home/almalinux/data/cath-4.3-foldclassdb AF-P0AAQ6-F1-model_v4.pdb tmp --iterate --output_headers -d cpu --threads 1\n",
      "\n",
      "2024-12-07 03:38:39,952 | INFO | Finished easy-search in 6.272 seconds.\n",
      "\n",
      "search_file:  AF-P0AAQ6-F1-model_v4.pdb_search.tsv\n",
      "STEP 2: RUNNING PARSER: python3 ./results_parser.py AF-P0AAQ6-F1-model_v4.pdb_search.tsv\n",
      "Output:\n",
      "\n",
      "File Name: AF-P0ABQ2-F1-model_v4.pdb\n",
      "STEP 1: RUNNING MERIZO: python3 /home/almalinux/merizo_search/merizo_search/merizo.py easy-search /tmp/tmpz43remdm /home/almalinux/data/cath-4.3-foldclassdb AF-P0ABQ2-F1-model_v4.pdb tmp --iterate --output_headers -d cpu --threads 1\n",
      "Output:\n",
      "\n",
      "Error:\n",
      "2024-12-07 03:38:33,663 | INFO | Starting easy-search with command: \n",
      "\n",
      "/home/almalinux/merizo_search/merizo_search/merizo.py easy-search /tmp/tmpasmw635u /home/almalinux/data/cath-4.3-foldclassdb AF-P37671-F1-model_v4.pdb tmp --iterate --output_headers -d cpu --threads 1\n",
      "\n",
      "2024-12-07 03:38:42,993 | INFO | Finished easy-search in 9.330 seconds.\n",
      "\n",
      "search_file:  AF-P37671-F1-model_v4.pdb_search.tsv\n",
      "STEP 2: RUNNING PARSER: python3 ./results_parser.py AF-P37671-F1-model_v4.pdb_search.tsv\n",
      "Output:\n",
      "\n",
      "File Name: AF-P39343-F1-model_v4.pdb\n",
      "STEP 1: RUNNING MERIZO: python3 /home/almalinux/merizo_search/merizo_search/merizo.py easy-search /tmp/tmpbpcm4ajw /home/almalinux/data/cath-4.3-foldclassdb AF-P39343-F1-model_v4.pdb tmp --iterate --output_headers -d cpu --threads 1\n",
      "Output:\n",
      "\n",
      "Error:\n",
      "2024-12-07 03:38:43,748 | INFO | Starting easy-search with command: \n",
      "\n",
      "/home/almalinux/merizo_search/merizo_search/merizo.py easy-search /tmp/tmpz43remdm /home/almalinux/data/cath-4.3-foldclassdb AF-P0ABQ2-F1-model_v4.pdb tmp --iterate --output_headers -d cpu --threads 1\n",
      "\n",
      "2024-12-07 03:38:53,327 | INFO | Finished easy-search in 9.579 seconds.\n",
      "\n",
      "search_file:  AF-P0ABQ2-F1-model_v4.pdb_search.tsv\n",
      "STEP 2: RUNNING PARSER: python3 ./results_parser.py AF-P0ABQ2-F1-model_v4.pdb_search.tsv\n",
      "Output:\n",
      "\n",
      "File Name: AF-P0ABX8-F1-model_v4.pdb\n",
      "STEP 1: RUNNING MERIZO: python3 /home/almalinux/merizo_search/merizo_search/merizo.py easy-search /tmp/tmppcqs14xo /home/almalinux/data/cath-4.3-foldclassdb AF-P0ABX8-F1-model_v4.pdb tmp --iterate --output_headers -d cpu --threads 1\n",
      "Output:\n",
      "\n",
      "Error:\n",
      "2024-12-07 03:38:47,363 | INFO | Starting easy-search with command: \n",
      "\n",
      "/home/almalinux/merizo_search/merizo_search/merizo.py easy-search /tmp/tmpbpcm4ajw /home/almalinux/data/cath-4.3-foldclassdb AF-P39343-F1-model_v4.pdb tmp --iterate --output_headers -d cpu --threads 1\n",
      "\n",
      "2024-12-07 03:38:58,364 | INFO | Finished easy-search in 11.001 seconds.\n",
      "\n",
      "search_file:  AF-P39343-F1-model_v4.pdb_search.tsv\n",
      "STEP 2: RUNNING PARSER: python3 ./results_parser.py AF-P39343-F1-model_v4.pdb_search.tsv\n",
      "Output:\n",
      "\n",
      "File Name: AF-P64581-F1-model_v4.pdb\n",
      "STEP 1: RUNNING MERIZO: python3 /home/almalinux/merizo_search/merizo_search/merizo.py easy-search /tmp/tmpxy3dnzgi /home/almalinux/data/cath-4.3-foldclassdb AF-P64581-F1-model_v4.pdb tmp --iterate --output_headers -d cpu --threads 1\n",
      "Output:\n",
      "\n",
      "Error:\n",
      "2024-12-07 03:38:56,734 | INFO | Starting easy-search with command: \n",
      "\n",
      "/home/almalinux/merizo_search/merizo_search/merizo.py easy-search /tmp/tmppcqs14xo /home/almalinux/data/cath-4.3-foldclassdb AF-P0ABX8-F1-model_v4.pdb tmp --iterate --output_headers -d cpu --threads 1\n",
      "\n",
      "2024-12-07 03:39:03,828 | INFO | Finished easy-search in 7.094 seconds.\n",
      "\n",
      "search_file:  AF-P0ABX8-F1-model_v4.pdb_search.tsv\n",
      "STEP 2: RUNNING PARSER: python3 ./results_parser.py AF-P0ABX8-F1-model_v4.pdb_search.tsv\n",
      "Output:\n",
      "\n",
      "File Name: AF-P0AC41-F1-model_v4.pdb\n",
      "STEP 1: RUNNING MERIZO: python3 /home/almalinux/merizo_search/merizo_search/merizo.py easy-search /tmp/tmpwo58fezk /home/almalinux/data/cath-4.3-foldclassdb AF-P0AC41-F1-model_v4.pdb tmp --iterate --output_headers -d cpu --threads 1\n",
      "Output:\n",
      "\n",
      "Error:\n",
      "2024-12-07 03:39:05,826 | INFO | Starting easy-search with command: \n",
      "\n",
      "/home/almalinux/merizo_search/merizo_search/merizo.py easy-search /tmp/tmpxy3dnzgi /home/almalinux/data/cath-4.3-foldclassdb AF-P64581-F1-model_v4.pdb tmp --iterate --output_headers -d cpu --threads 1\n",
      "\n",
      "2024-12-07 03:39:11,882 | INFO | Finished easy-search in 6.057 seconds.\n",
      "\n",
      "search_file:  AF-P64581-F1-model_v4.pdb_search.tsv\n",
      "STEP 2: RUNNING PARSER: python3 ./results_parser.py AF-P64581-F1-model_v4.pdb_search.tsv\n",
      "Output:\n",
      "\n",
      "File Name: AF-P77409-F1-model_v4.pdb\n",
      "STEP 1: RUNNING MERIZO: python3 /home/almalinux/merizo_search/merizo_search/merizo.py easy-search /tmp/tmp7qvi1zia /home/almalinux/data/cath-4.3-foldclassdb AF-P77409-F1-model_v4.pdb tmp --iterate --output_headers -d cpu --threads 1\n",
      "Output:\n",
      "\n",
      "Error:\n",
      "2024-12-07 03:38:32,121 | INFO | Starting easy-search with command: \n",
      "\n",
      "/home/almalinux/merizo_search/merizo_search/merizo.py easy-search /tmp/tmpv3iqi9p8 /home/almalinux/data/cath-4.3-foldclassdb AF-P31224-F1-model_v4.pdb tmp --iterate --output_headers -d cpu --threads 1\n",
      "\n",
      "2024-12-07 03:39:22,735 | INFO | Finished easy-search in 50.614 seconds.\n",
      "\n",
      "File Name: AF-P31991-F1-model_v4.pdb\n",
      "STEP 1: RUNNING MERIZO: python3 /home/almalinux/merizo_search/merizo_search/merizo.py easy-search /tmp/tmpxkmtxawo /home/almalinux/data/cath-4.3-foldclassdb AF-P31991-F1-model_v4.pdb tmp --iterate --output_headers -d cpu --threads 1\n",
      "Output:\n",
      "\n",
      "Error:\n",
      "2024-12-07 03:39:14,826 | INFO | Starting easy-search with command: \n",
      "\n",
      "/home/almalinux/merizo_search/merizo_search/merizo.py easy-search /tmp/tmp7qvi1zia /home/almalinux/data/cath-4.3-foldclassdb AF-P77409-F1-model_v4.pdb tmp --iterate --output_headers -d cpu --threads 1\n",
      "\n",
      "2024-12-07 03:39:23,068 | INFO | Finished easy-search in 8.242 seconds.\n",
      "\n",
      "search_file:  AF-P77409-F1-model_v4.pdb_search.tsv\n",
      "STEP 2: RUNNING PARSER: python3 ./results_parser.py AF-P77409-F1-model_v4.pdb_search.tsv\n",
      "Output:\n",
      "\n",
      "File Name: AF-P07648-F1-model_v4.pdb\n",
      "STEP 1: RUNNING MERIZO: python3 /home/almalinux/merizo_search/merizo_search/merizo.py easy-search /tmp/tmp7_obid_v /home/almalinux/data/cath-4.3-foldclassdb AF-P07648-F1-model_v4.pdb tmp --iterate --output_headers -d cpu --threads 1\n",
      "Output:\n",
      "\n",
      "Error:\n",
      "2024-12-07 03:39:06,782 | INFO | Starting easy-search with command: \n",
      "\n",
      "/home/almalinux/merizo_search/merizo_search/merizo.py easy-search /tmp/tmpwo58fezk /home/almalinux/data/cath-4.3-foldclassdb AF-P0AC41-F1-model_v4.pdb tmp --iterate --output_headers -d cpu --threads 1\n",
      "\n",
      "2024-12-07 03:39:30,742 | INFO | Finished easy-search in 23.960 seconds.\n",
      "\n",
      "search_file:  AF-P0AC41-F1-model_v4.pdb_search.tsv\n",
      "STEP 2: RUNNING PARSER: python3 ./results_parser.py AF-P0AC41-F1-model_v4.pdb_search.tsv\n",
      "Output:\n",
      "\n",
      "Output:\n",
      "\n",
      "Error:\n",
      "2024-12-07 03:39:25,527 | INFO | Starting easy-search with command: \n",
      "\n",
      "/home/almalinux/merizo_search/merizo_search/merizo.py easy-search /tmp/tmpxkmtxawo /home/almalinux/data/cath-4.3-foldclassdb AF-P31991-F1-model_v4.pdb tmp --iterate --output_headers -d cpu --threads 1\n",
      "\n",
      "2024-12-07 03:39:32,494 | INFO | Finished easy-search in 6.967 seconds.\n",
      "\n",
      "File Name: AF-P32160-F1-model_v4.pdb\n",
      "STEP 1: RUNNING MERIZO: python3 /home/almalinux/merizo_search/merizo_search/merizo.py easy-search /tmp/tmp4s8oaj0i /home/almalinux/data/cath-4.3-foldclassdb AF-P32160-F1-model_v4.pdb tmp --iterate --output_headers -d cpu --threads 1\n",
      "File Name: AF-P0AE76-F1-model_v4.pdb\n",
      "STEP 1: RUNNING MERIZO: python3 /home/almalinux/merizo_search/merizo_search/merizo.py easy-search /tmp/tmpnfy6hcw5 /home/almalinux/data/cath-4.3-foldclassdb AF-P0AE76-F1-model_v4.pdb tmp --iterate --output_headers -d cpu --threads 1\n",
      "Output:\n",
      "\n",
      "Error:\n",
      "2024-12-07 03:39:35,924 | INFO | Starting easy-search with command: \n",
      "\n",
      "/home/almalinux/merizo_search/merizo_search/merizo.py easy-search /tmp/tmpnfy6hcw5 /home/almalinux/data/cath-4.3-foldclassdb AF-P0AE76-F1-model_v4.pdb tmp --iterate --output_headers -d cpu --threads 1\n",
      "\n",
      "2024-12-07 03:39:35,925 | WARNING | Segment output file 'AF-P0AE76-F1-model_v4.pdb_segment.tsv' already exists. Results will be overwritten!\n",
      "2024-12-07 03:39:35,925 | WARNING | Search output file 'AF-P0AE76-F1-model_v4.pdb_search.tsv' already exists. Results will be overwritten!\n",
      "2024-12-07 03:39:43,599 | INFO | Finished easy-search in 7.674 seconds.\n",
      "\n",
      "search_file:  AF-P0AE76-F1-model_v4.pdb_search.tsv\n",
      "STEP 2: RUNNING PARSER: python3 ./results_parser.py AF-P0AE76-F1-model_v4.pdb_search.tsv\n",
      "Output:\n",
      "\n",
      "Output:\n",
      "\n",
      "Error:\n",
      "2024-12-07 03:39:35,114 | INFO | Starting easy-search with command: \n",
      "\n",
      "/home/almalinux/merizo_search/merizo_search/merizo.py easy-search /tmp/tmp4s8oaj0i /home/almalinux/data/cath-4.3-foldclassdb AF-P32160-F1-model_v4.pdb tmp --iterate --output_headers -d cpu --threads 1\n",
      "\n",
      "2024-12-07 03:39:43,881 | INFO | Finished easy-search in 8.766 seconds.\n",
      "\n",
      "File Name: AF-P0AFQ7-F1-model_v4.pdb/ 7][Stage 1:========>          (3 + 2) / 7]\n",
      "STEP 1: RUNNING MERIZO: python3 /home/almalinux/merizo_search/merizo_search/merizo.py easy-search /tmp/tmpvo7nz649 /home/almalinux/data/cath-4.3-foldclassdb AF-P0AFQ7-F1-model_v4.pdb tmp --iterate --output_headers -d cpu --threads 1\n",
      "File Name: AF-P27247-F1-model_v4.pdb\n",
      "STEP 1: RUNNING MERIZO: python3 /home/almalinux/merizo_search/merizo_search/merizo.py easy-search /tmp/tmp9nfpi75l /home/almalinux/data/cath-4.3-foldclassdb AF-P27247-F1-model_v4.pdb tmp --iterate --output_headers -d cpu --threads 1\n",
      "Output:\n",
      "\n",
      "Error:\n",
      "2024-12-07 03:39:48,417 | INFO | Starting easy-search with command: \n",
      "\n",
      "/home/almalinux/merizo_search/merizo_search/merizo.py easy-search /tmp/tmpvo7nz649 /home/almalinux/data/cath-4.3-foldclassdb AF-P0AFQ7-F1-model_v4.pdb tmp --iterate --output_headers -d cpu --threads 1\n",
      "\n",
      "2024-12-07 03:39:58,116 | INFO | Finished easy-search in 9.699 seconds.\n",
      "\n",
      "search_file:  AF-P0AFQ7-F1-model_v4.pdb_search.tsv\n",
      "STEP 2: RUNNING PARSER: python3 ./results_parser.py AF-P0AFQ7-F1-model_v4.pdb_search.tsv\n",
      "Output:\n",
      "\n",
      "Exception in thread \"serve RDD 3\" java.net.SocketTimeoutException: Accept timed out\n",
      "\tat java.base/java.net.PlainSocketImpl.socketAccept(Native Method)\n",
      "\tat java.base/java.net.AbstractPlainSocketImpl.accept(AbstractPlainSocketImpl.java:474)\n",
      "\tat java.base/java.net.ServerSocket.implAccept(ServerSocket.java:565)\n",
      "\tat java.base/java.net.ServerSocket.accept(ServerSocket.java:533)\n",
      "\tat org.apache.spark.security.SocketAuthServer$$anon$1.run(SocketAuthServer.scala:65)\n",
      "Output:\n",
      "\n",
      "Error:\n",
      "2024-12-07 03:39:50,471 | INFO | Starting easy-search with command: \n",
      "\n",
      "/home/almalinux/merizo_search/merizo_search/merizo.py easy-search /tmp/tmp9nfpi75l /home/almalinux/data/cath-4.3-foldclassdb AF-P27247-F1-model_v4.pdb tmp --iterate --output_headers -d cpu --threads 1\n",
      "\n",
      "2024-12-07 03:39:50,471 | WARNING | Segment output file 'AF-P27247-F1-model_v4.pdb_segment.tsv' already exists. Results will be overwritten!\n",
      "2024-12-07 03:39:50,471 | WARNING | Search output file 'AF-P27247-F1-model_v4.pdb_search.tsv' already exists. Results will be overwritten!\n",
      "2024-12-07 03:40:03,178 | INFO | Finished easy-search in 12.707 seconds.\n",
      "\n",
      "search_file:  AF-P27247-F1-model_v4.pdb_search.tsv\n",
      "STEP 2: RUNNING PARSER: python3 ./results_parser.py AF-P27247-F1-model_v4.pdb_search.tsv\n",
      "Output:\n",
      "\n",
      "File Name: AF-P27830-F1-model_v4.pdb\n",
      "STEP 1: RUNNING MERIZO: python3 /home/almalinux/merizo_search/merizo_search/merizo.py easy-search /tmp/tmpi3ufbvxd /home/almalinux/data/cath-4.3-foldclassdb AF-P27830-F1-model_v4.pdb tmp --iterate --output_headers -d cpu --threads 1\n",
      "File Name: AF-P76334-F1-model_v4.pdb\n",
      "STEP 1: RUNNING MERIZO: python3 /home/almalinux/merizo_search/merizo_search/merizo.py easy-search /tmp/tmpzerc1c3s /home/almalinux/data/cath-4.3-foldclassdb AF-P76334-F1-model_v4.pdb tmp --iterate --output_headers -d cpu --threads 1\n",
      "Output:\n",
      "\n",
      "Error:\n",
      "2024-12-07 03:40:06,269 | INFO | Starting easy-search with command: \n",
      "\n",
      "/home/almalinux/merizo_search/merizo_search/merizo.py easy-search /tmp/tmpi3ufbvxd /home/almalinux/data/cath-4.3-foldclassdb AF-P27830-F1-model_v4.pdb tmp --iterate --output_headers -d cpu --threads 1\n",
      "\n",
      "2024-12-07 03:40:06,269 | WARNING | Segment output file 'AF-P27830-F1-model_v4.pdb_segment.tsv' already exists. Results will be overwritten!\n",
      "2024-12-07 03:40:06,269 | WARNING | Search output file 'AF-P27830-F1-model_v4.pdb_search.tsv' already exists. Results will be overwritten!\n",
      "2024-12-07 03:40:17,743 | INFO | Finished easy-search in 11.474 seconds.\n",
      "\n",
      "search_file:  AF-P27830-F1-model_v4.pdb_search.tsv\n",
      "STEP 2: RUNNING PARSER: python3 ./results_parser.py AF-P27830-F1-model_v4.pdb_search.tsv\n",
      "Output:\n",
      "\n",
      "File Name: AF-P31224-F1-model_v4.pdb\n",
      "STEP 1: RUNNING MERIZO: python3 /home/almalinux/merizo_search/merizo_search/merizo.py easy-search /tmp/tmpqnecb7ca /home/almalinux/data/cath-4.3-foldclassdb AF-P31224-F1-model_v4.pdb tmp --iterate --output_headers -d cpu --threads 1\n",
      "Output:\n",
      "\n",
      "Error:\n",
      "2024-12-07 03:40:13,266 | INFO | Starting easy-search with command: \n",
      "\n",
      "/home/almalinux/merizo_search/merizo_search/merizo.py easy-search /tmp/tmpzerc1c3s /home/almalinux/data/cath-4.3-foldclassdb AF-P76334-F1-model_v4.pdb tmp --iterate --output_headers -d cpu --threads 1\n",
      "\n",
      "2024-12-07 03:40:13,266 | WARNING | Segment output file 'AF-P76334-F1-model_v4.pdb_segment.tsv' already exists. Results will be overwritten!\n",
      "2024-12-07 03:40:13,266 | WARNING | Search output file 'AF-P76334-F1-model_v4.pdb_search.tsv' already exists. Results will be overwritten!\n",
      "2024-12-07 03:40:19,475 | INFO | Finished easy-search in 6.208 seconds.\n",
      "\n",
      "search_file:  AF-P76334-F1-model_v4.pdb_search.tsv\n",
      "STEP 2: RUNNING PARSER: python3 ./results_parser.py AF-P76334-F1-model_v4.pdb_search.tsv\n",
      "Output:\n",
      "\n",
      "Output:\n",
      "\n",
      "Error:\n",
      "2024-12-07 03:39:32,096 | INFO | Starting easy-search with command: \n",
      "\n",
      "/home/almalinux/merizo_search/merizo_search/merizo.py easy-search /tmp/tmp7_obid_v /home/almalinux/data/cath-4.3-foldclassdb AF-P07648-F1-model_v4.pdb tmp --iterate --output_headers -d cpu --threads 1\n",
      "\n",
      "2024-12-07 03:39:32,096 | WARNING | Search output file 'AF-P07648-F1-model_v4.pdb_search.tsv' already exists. Results will be overwritten!\n",
      "2024-12-07 03:40:25,204 | INFO | Finished easy-search in 53.108 seconds.\n",
      "\n",
      "search_file:  AF-P07648-F1-model_v4.pdb_search.tsv\n",
      "STEP 2: RUNNING PARSER: python3 ./results_parser.py AF-P07648-F1-model_v4.pdb_search.tsv\n",
      "Output:\n",
      "\n",
      "File Name: AF-P0A8A4-F1-model_v4.pdb\n",
      "STEP 1: RUNNING MERIZO: python3 /home/almalinux/merizo_search/merizo_search/merizo.py easy-search /tmp/tmph16g1vic /home/almalinux/data/cath-4.3-foldclassdb AF-P0A8A4-F1-model_v4.pdb tmp --iterate --output_headers -d cpu --threads 1\n",
      "Output:\n",
      "\n",
      "Error:\n",
      "2024-12-07 03:40:32,208 | INFO | Starting easy-search with command: \n",
      "\n",
      "/home/almalinux/merizo_search/merizo_search/merizo.py easy-search /tmp/tmph16g1vic /home/almalinux/data/cath-4.3-foldclassdb AF-P0A8A4-F1-model_v4.pdb tmp --iterate --output_headers -d cpu --threads 1\n",
      "\n",
      "2024-12-07 03:40:32,208 | WARNING | Segment output file 'AF-P0A8A4-F1-model_v4.pdb_segment.tsv' already exists. Results will be overwritten!\n",
      "2024-12-07 03:40:32,208 | WARNING | Search output file 'AF-P0A8A4-F1-model_v4.pdb_search.tsv' already exists. Results will be overwritten!\n",
      "2024-12-07 03:40:42,713 | INFO | Finished easy-search in 10.505 seconds.\n",
      "\n",
      "search_file:  AF-P0A8A4-F1-model_v4.pdb_search.tsv\n",
      "STEP 2: RUNNING PARSER: python3 ./results_parser.py AF-P0A8A4-F1-model_v4.pdb_search.tsv\n",
      "Output:\n",
      "\n",
      "Output:\n",
      "\n",
      "Error:\n",
      "2024-12-07 03:40:22,535 | INFO | Starting easy-search with command: \n",
      "\n",
      "/home/almalinux/merizo_search/merizo_search/merizo.py easy-search /tmp/tmpqnecb7ca /home/almalinux/data/cath-4.3-foldclassdb AF-P31224-F1-model_v4.pdb tmp --iterate --output_headers -d cpu --threads 1\n",
      "\n",
      "2024-12-07 03:40:22,536 | WARNING | Segment output file 'AF-P31224-F1-model_v4.pdb_segment.tsv' already exists. Results will be overwritten!\n",
      "2024-12-07 03:40:22,536 | WARNING | Search output file 'AF-P31224-F1-model_v4.pdb_search.tsv' already exists. Results will be overwritten!\n",
      "2024-12-07 03:41:12,212 | INFO | Finished easy-search in 49.676 seconds.\n",
      "\n",
      "search_file:  AF-P31224-F1-model_v4.pdb_search.tsv\n",
      "STEP 2: RUNNING PARSER: python3 ./results_parser.py AF-P31224-F1-model_v4.pdb_search.tsv\n",
      "Output:\n",
      "\n",
      "File Name: AF-P31991-F1-model_v4.pdb\n",
      "STEP 1: RUNNING MERIZO: python3 /home/almalinux/merizo_search/merizo_search/merizo.py easy-search /tmp/tmpxv8hh3p1 /home/almalinux/data/cath-4.3-foldclassdb AF-P31991-F1-model_v4.pdb tmp --iterate --output_headers -d cpu --threads 1\n",
      "Output:\n",
      "\n",
      "Error:\n",
      "2024-12-07 03:41:16,215 | INFO | Starting easy-search with command: \n",
      "\n",
      "/home/almalinux/merizo_search/merizo_search/merizo.py easy-search /tmp/tmpxv8hh3p1 /home/almalinux/data/cath-4.3-foldclassdb AF-P31991-F1-model_v4.pdb tmp --iterate --output_headers -d cpu --threads 1\n",
      "\n",
      "2024-12-07 03:41:16,215 | WARNING | Segment output file 'AF-P31991-F1-model_v4.pdb_segment.tsv' already exists. Results will be overwritten!\n",
      "2024-12-07 03:41:16,215 | WARNING | Search output file 'AF-P31991-F1-model_v4.pdb_search.tsv' already exists. Results will be overwritten!\n",
      "2024-12-07 03:41:23,005 | INFO | Finished easy-search in 6.789 seconds.\n",
      "\n",
      "search_file:  AF-P31991-F1-model_v4.pdb_search.tsv\n",
      "STEP 2: RUNNING PARSER: python3 ./results_parser.py AF-P31991-F1-model_v4.pdb_search.tsv\n",
      "Output:\n",
      "\n",
      "File Name: AF-P32160-F1-model_v4.pdb\n",
      "STEP 1: RUNNING MERIZO: python3 /home/almalinux/merizo_search/merizo_search/merizo.py easy-search /tmp/tmpzuwgt4g6 /home/almalinux/data/cath-4.3-foldclassdb AF-P32160-F1-model_v4.pdb tmp --iterate --output_headers -d cpu --threads 1\n",
      "Output:\n",
      "\n",
      "Error:\n",
      "2024-12-07 03:41:25,474 | INFO | Starting easy-search with command: \n",
      "\n",
      "/home/almalinux/merizo_search/merizo_search/merizo.py easy-search /tmp/tmpzuwgt4g6 /home/almalinux/data/cath-4.3-foldclassdb AF-P32160-F1-model_v4.pdb tmp --iterate --output_headers -d cpu --threads 1\n",
      "\n",
      "2024-12-07 03:41:25,474 | WARNING | Segment output file 'AF-P32160-F1-model_v4.pdb_segment.tsv' already exists. Results will be overwritten!\n",
      "2024-12-07 03:41:25,474 | WARNING | Search output file 'AF-P32160-F1-model_v4.pdb_search.tsv' already exists. Results will be overwritten!\n",
      "2024-12-07 03:41:33,217 | INFO | Finished easy-search in 7.743 seconds.\n",
      "\n",
      "search_file:  AF-P32160-F1-model_v4.pdb_search.tsv\n",
      "STEP 2: RUNNING PARSER: python3 ./results_parser.py AF-P32160-F1-model_v4.pdb_search.tsv\n",
      "Output:\n",
      "\n",
      "                                                                                "
     ]
    },
    {
     "data": {
      "text/plain": [
       "[None,\n",
       " None,\n",
       " None,\n",
       " None,\n",
       " None,\n",
       " None,\n",
       " None,\n",
       " None,\n",
       " None,\n",
       " None,\n",
       " None,\n",
       " None,\n",
       " None,\n",
       " None,\n",
       " None,\n",
       " None,\n",
       " None,\n",
       " None]"
      ]
     },
     "execution_count": 27,
     "metadata": {},
     "output_type": "execute_result"
    }
   ],
   "source": [
    "file_content_rdd.map(pipeline).collect()\n"
   ]
  },
  {
   "cell_type": "code",
   "execution_count": null,
   "id": "2290bf92-6cf8-4c16-91ac-e0bf7f075fb0",
   "metadata": {},
   "outputs": [],
   "source": []
  }
 ],
 "metadata": {
  "kernelspec": {
   "display_name": "Python 3 (ipykernel)",
   "language": "python",
   "name": "python3"
  },
  "language_info": {
   "codemirror_mode": {
    "name": "ipython",
    "version": 3
   },
   "file_extension": ".py",
   "mimetype": "text/x-python",
   "name": "python",
   "nbconvert_exporter": "python",
   "pygments_lexer": "ipython3",
   "version": "3.9.19"
  }
 },
 "nbformat": 4,
 "nbformat_minor": 5
}
